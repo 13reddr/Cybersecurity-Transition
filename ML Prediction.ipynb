{
 "cells": [
  {
   "cell_type": "code",
   "execution_count": 1,
   "metadata": {},
   "outputs": [],
   "source": [
    "import pandas as pd\n",
    "import numpy as np\n",
    "import statsmodels.api as sm\n",
    "from sklearn import metrics"
   ]
  },
  {
   "cell_type": "code",
   "execution_count": 2,
   "metadata": {},
   "outputs": [],
   "source": [
    "power = pd.read_excel('/Users/rishireddy/Desktop/BFOR 516/Datasets for ML Model/ALL Data Combined.xlsx')"
   ]
  },
  {
   "cell_type": "code",
   "execution_count": 3,
   "metadata": {},
   "outputs": [
    {
     "data": {
      "text/html": [
       "<div>\n",
       "<style scoped>\n",
       "    .dataframe tbody tr th:only-of-type {\n",
       "        vertical-align: middle;\n",
       "    }\n",
       "\n",
       "    .dataframe tbody tr th {\n",
       "        vertical-align: top;\n",
       "    }\n",
       "\n",
       "    .dataframe thead th {\n",
       "        text-align: right;\n",
       "    }\n",
       "</style>\n",
       "<table border=\"1\" class=\"dataframe\">\n",
       "  <thead>\n",
       "    <tr style=\"text-align: right;\">\n",
       "      <th></th>\n",
       "      <th>Date</th>\n",
       "      <th>GDP Per Capita</th>\n",
       "      <th>NCENT</th>\n",
       "      <th>ERCOT</th>\n",
       "      <th>Population</th>\n",
       "      <th>Max Temp</th>\n",
       "      <th>Min Temp</th>\n",
       "      <th>Avg Temp</th>\n",
       "      <th>Precipitation</th>\n",
       "    </tr>\n",
       "  </thead>\n",
       "  <tbody>\n",
       "    <tr>\n",
       "      <th>0</th>\n",
       "      <td>2016-01-01</td>\n",
       "      <td>52254.000000</td>\n",
       "      <td>288302.989385</td>\n",
       "      <td>855877.832302</td>\n",
       "      <td>7195.475</td>\n",
       "      <td>49</td>\n",
       "      <td>39</td>\n",
       "      <td>44.0</td>\n",
       "      <td>0.0</td>\n",
       "    </tr>\n",
       "    <tr>\n",
       "      <th>1</th>\n",
       "      <td>2016-01-02</td>\n",
       "      <td>52260.671233</td>\n",
       "      <td>294503.876737</td>\n",
       "      <td>912963.429347</td>\n",
       "      <td>7195.865</td>\n",
       "      <td>51</td>\n",
       "      <td>38</td>\n",
       "      <td>44.5</td>\n",
       "      <td>0.0</td>\n",
       "    </tr>\n",
       "    <tr>\n",
       "      <th>2</th>\n",
       "      <td>2016-01-03</td>\n",
       "      <td>52267.342466</td>\n",
       "      <td>277062.509575</td>\n",
       "      <td>852169.520525</td>\n",
       "      <td>7196.255</td>\n",
       "      <td>60</td>\n",
       "      <td>37</td>\n",
       "      <td>48.5</td>\n",
       "      <td>0.0</td>\n",
       "    </tr>\n",
       "    <tr>\n",
       "      <th>3</th>\n",
       "      <td>2016-01-04</td>\n",
       "      <td>52274.013699</td>\n",
       "      <td>313653.627898</td>\n",
       "      <td>925112.546281</td>\n",
       "      <td>7196.645</td>\n",
       "      <td>54</td>\n",
       "      <td>32</td>\n",
       "      <td>43.0</td>\n",
       "      <td>0.0</td>\n",
       "    </tr>\n",
       "    <tr>\n",
       "      <th>4</th>\n",
       "      <td>2016-01-05</td>\n",
       "      <td>52280.684932</td>\n",
       "      <td>336175.812507</td>\n",
       "      <td>964289.228618</td>\n",
       "      <td>7197.035</td>\n",
       "      <td>47</td>\n",
       "      <td>32</td>\n",
       "      <td>39.5</td>\n",
       "      <td>0.0</td>\n",
       "    </tr>\n",
       "  </tbody>\n",
       "</table>\n",
       "</div>"
      ],
      "text/plain": [
       "        Date  GDP Per Capita          NCENT          ERCOT  Population  \\\n",
       "0 2016-01-01    52254.000000  288302.989385  855877.832302    7195.475   \n",
       "1 2016-01-02    52260.671233  294503.876737  912963.429347    7195.865   \n",
       "2 2016-01-03    52267.342466  277062.509575  852169.520525    7196.255   \n",
       "3 2016-01-04    52274.013699  313653.627898  925112.546281    7196.645   \n",
       "4 2016-01-05    52280.684932  336175.812507  964289.228618    7197.035   \n",
       "\n",
       "   Max Temp  Min Temp  Avg Temp  Precipitation  \n",
       "0        49        39      44.0            0.0  \n",
       "1        51        38      44.5            0.0  \n",
       "2        60        37      48.5            0.0  \n",
       "3        54        32      43.0            0.0  \n",
       "4        47        32      39.5            0.0  "
      ]
     },
     "execution_count": 3,
     "metadata": {},
     "output_type": "execute_result"
    }
   ],
   "source": [
    "power.head()"
   ]
  },
  {
   "cell_type": "code",
   "execution_count": 4,
   "metadata": {},
   "outputs": [
    {
     "data": {
      "text/html": [
       "<div>\n",
       "<style scoped>\n",
       "    .dataframe tbody tr th:only-of-type {\n",
       "        vertical-align: middle;\n",
       "    }\n",
       "\n",
       "    .dataframe tbody tr th {\n",
       "        vertical-align: top;\n",
       "    }\n",
       "\n",
       "    .dataframe thead th {\n",
       "        text-align: right;\n",
       "    }\n",
       "</style>\n",
       "<table border=\"1\" class=\"dataframe\">\n",
       "  <thead>\n",
       "    <tr style=\"text-align: right;\">\n",
       "      <th></th>\n",
       "      <th>GDP Per Capita</th>\n",
       "      <th>NCENT</th>\n",
       "      <th>ERCOT</th>\n",
       "      <th>Population</th>\n",
       "      <th>Max Temp</th>\n",
       "      <th>Min Temp</th>\n",
       "      <th>Avg Temp</th>\n",
       "      <th>Precipitation</th>\n",
       "    </tr>\n",
       "  </thead>\n",
       "  <tbody>\n",
       "    <tr>\n",
       "      <th>count</th>\n",
       "      <td>1827.000000</td>\n",
       "      <td>1827.000000</td>\n",
       "      <td>1.827000e+03</td>\n",
       "      <td>1827.000000</td>\n",
       "      <td>1827.000000</td>\n",
       "      <td>1827.000000</td>\n",
       "      <td>1827.000000</td>\n",
       "      <td>1827.000000</td>\n",
       "    </tr>\n",
       "    <tr>\n",
       "      <th>mean</th>\n",
       "      <td>58756.873016</td>\n",
       "      <td>321308.981971</td>\n",
       "      <td>1.012841e+06</td>\n",
       "      <td>7501.822883</td>\n",
       "      <td>78.099070</td>\n",
       "      <td>57.844007</td>\n",
       "      <td>67.971538</td>\n",
       "      <td>0.112921</td>\n",
       "    </tr>\n",
       "    <tr>\n",
       "      <th>std</th>\n",
       "      <td>3841.097043</td>\n",
       "      <td>65724.982002</td>\n",
       "      <td>1.737531e+05</td>\n",
       "      <td>160.882504</td>\n",
       "      <td>15.926259</td>\n",
       "      <td>15.883829</td>\n",
       "      <td>15.535415</td>\n",
       "      <td>0.400781</td>\n",
       "    </tr>\n",
       "    <tr>\n",
       "      <th>min</th>\n",
       "      <td>52254.000000</td>\n",
       "      <td>213261.717144</td>\n",
       "      <td>7.112878e+05</td>\n",
       "      <td>7195.475000</td>\n",
       "      <td>27.000000</td>\n",
       "      <td>13.000000</td>\n",
       "      <td>23.000000</td>\n",
       "      <td>0.000000</td>\n",
       "    </tr>\n",
       "    <tr>\n",
       "      <th>25%</th>\n",
       "      <td>55444.736986</td>\n",
       "      <td>264523.792987</td>\n",
       "      <td>8.670648e+05</td>\n",
       "      <td>7367.391000</td>\n",
       "      <td>67.000000</td>\n",
       "      <td>45.000000</td>\n",
       "      <td>56.000000</td>\n",
       "      <td>0.000000</td>\n",
       "    </tr>\n",
       "    <tr>\n",
       "      <th>50%</th>\n",
       "      <td>58891.827397</td>\n",
       "      <td>303346.799865</td>\n",
       "      <td>9.643528e+05</td>\n",
       "      <td>7515.827995</td>\n",
       "      <td>80.000000</td>\n",
       "      <td>59.000000</td>\n",
       "      <td>70.000000</td>\n",
       "      <td>0.000000</td>\n",
       "    </tr>\n",
       "    <tr>\n",
       "      <th>75%</th>\n",
       "      <td>61380.036986</td>\n",
       "      <td>375918.657460</td>\n",
       "      <td>1.154829e+06</td>\n",
       "      <td>7640.303500</td>\n",
       "      <td>92.000000</td>\n",
       "      <td>73.000000</td>\n",
       "      <td>82.000000</td>\n",
       "      <td>0.000100</td>\n",
       "    </tr>\n",
       "    <tr>\n",
       "      <th>max</th>\n",
       "      <td>66727.000000</td>\n",
       "      <td>498328.430997</td>\n",
       "      <td>1.447721e+06</td>\n",
       "      <td>7759.780000</td>\n",
       "      <td>109.000000</td>\n",
       "      <td>86.000000</td>\n",
       "      <td>95.500000</td>\n",
       "      <td>5.850000</td>\n",
       "    </tr>\n",
       "  </tbody>\n",
       "</table>\n",
       "</div>"
      ],
      "text/plain": [
       "       GDP Per Capita          NCENT         ERCOT   Population     Max Temp  \\\n",
       "count     1827.000000    1827.000000  1.827000e+03  1827.000000  1827.000000   \n",
       "mean     58756.873016  321308.981971  1.012841e+06  7501.822883    78.099070   \n",
       "std       3841.097043   65724.982002  1.737531e+05   160.882504    15.926259   \n",
       "min      52254.000000  213261.717144  7.112878e+05  7195.475000    27.000000   \n",
       "25%      55444.736986  264523.792987  8.670648e+05  7367.391000    67.000000   \n",
       "50%      58891.827397  303346.799865  9.643528e+05  7515.827995    80.000000   \n",
       "75%      61380.036986  375918.657460  1.154829e+06  7640.303500    92.000000   \n",
       "max      66727.000000  498328.430997  1.447721e+06  7759.780000   109.000000   \n",
       "\n",
       "          Min Temp     Avg Temp  Precipitation  \n",
       "count  1827.000000  1827.000000    1827.000000  \n",
       "mean     57.844007    67.971538       0.112921  \n",
       "std      15.883829    15.535415       0.400781  \n",
       "min      13.000000    23.000000       0.000000  \n",
       "25%      45.000000    56.000000       0.000000  \n",
       "50%      59.000000    70.000000       0.000000  \n",
       "75%      73.000000    82.000000       0.000100  \n",
       "max      86.000000    95.500000       5.850000  "
      ]
     },
     "execution_count": 4,
     "metadata": {},
     "output_type": "execute_result"
    }
   ],
   "source": [
    "power.describe()"
   ]
  },
  {
   "cell_type": "code",
   "execution_count": 61,
   "metadata": {},
   "outputs": [],
   "source": [
    "pred_vars = ['Avg Temp']\n",
    "#pred_vars = ['Avg Temp', 'GDP Per Capita']"
   ]
  },
  {
   "cell_type": "code",
   "execution_count": 62,
   "metadata": {},
   "outputs": [],
   "source": [
    "from sklearn.model_selection import train_test_split\n",
    "\n",
    "# use index-based sampling since we have time series data\n",
    "train, test = train_test_split(power, test_size=0.25, shuffle=False)"
   ]
  },
  {
   "cell_type": "code",
   "execution_count": 63,
   "metadata": {},
   "outputs": [
    {
     "name": "stdout",
     "output_type": "stream",
     "text": [
      "training data starts\n",
      " 0    288302.989385\n",
      "1    294503.876737\n",
      "2    277062.509575\n",
      "3    313653.627898\n",
      "4    336175.812507\n",
      "Name: NCENT, dtype: float64\n",
      "training data ends\n",
      " 1365    406445.115440\n",
      "1366    397972.497166\n",
      "1367    396370.424078\n",
      "1368    404603.545432\n",
      "1369    408438.175463\n",
      "Name: NCENT, dtype: float64\n",
      "testing data starts\n",
      " 1370    407301.624049\n",
      "1371    403898.178578\n",
      "1372    380430.419867\n",
      "1373    367305.405863\n",
      "1374    369200.875187\n",
      "Name: NCENT, dtype: float64\n",
      "testing data ends\n",
      " 1822    251320.473230\n",
      "1823    278696.325959\n",
      "1824    264523.611856\n",
      "1825    297244.200306\n",
      "1826    370919.897998\n",
      "Name: NCENT, dtype: float64\n"
     ]
    }
   ],
   "source": [
    "# earliest and latest dates in train\n",
    "print(\"training data starts\\n\", train['NCENT'].head())\n",
    "print(\"training data ends\\n\", train['NCENT'].tail())\n",
    "# earliest and latest in test\n",
    "print(\"testing data starts\\n\", test['NCENT'].head())\n",
    "print(\"testing data ends\\n\", test['NCENT'].tail())"
   ]
  },
  {
   "cell_type": "code",
   "execution_count": 66,
   "metadata": {},
   "outputs": [],
   "source": [
    "power['Date'] = pd.to_datetime(power['Date'],infer_datetime_format=True)"
   ]
  },
  {
   "cell_type": "code",
   "execution_count": 64,
   "metadata": {},
   "outputs": [
    {
     "data": {
      "text/plain": [
       "RandomForestRegressor(bootstrap=True, ccp_alpha=0.0, criterion='mse',\n",
       "                      max_depth=None, max_features='auto', max_leaf_nodes=None,\n",
       "                      max_samples=None, min_impurity_decrease=0.0,\n",
       "                      min_impurity_split=None, min_samples_leaf=1,\n",
       "                      min_samples_split=2, min_weight_fraction_leaf=0.0,\n",
       "                      n_estimators=100, n_jobs=None, oob_score=False,\n",
       "                      random_state=None, verbose=0, warm_start=False)"
      ]
     },
     "execution_count": 64,
     "metadata": {},
     "output_type": "execute_result"
    }
   ],
   "source": [
    "from sklearn.ensemble import RandomForestRegressor\n",
    "rf_reg = RandomForestRegressor()\n",
    "rf_reg.fit(train[pred_vars], train['NCENT'])"
   ]
  },
  {
   "cell_type": "code",
   "execution_count": 65,
   "metadata": {},
   "outputs": [
    {
     "data": {
      "text/plain": [
       "SVR(C=1.0, cache_size=200, coef0=0.0, degree=3, epsilon=0.1, gamma='scale',\n",
       "    kernel='rbf', max_iter=-1, shrinking=True, tol=0.001, verbose=False)"
      ]
     },
     "execution_count": 65,
     "metadata": {},
     "output_type": "execute_result"
    }
   ],
   "source": [
    "from sklearn import svm\n",
    "regr = svm.SVR()\n",
    "regr.fit(train[pred_vars], train['NCENT'])\n",
    "\n",
    "#https://scikit-learn.org/stable/modules/svm.html#regression"
   ]
  },
  {
   "cell_type": "code",
   "execution_count": 66,
   "metadata": {},
   "outputs": [
    {
     "name": "stderr",
     "output_type": "stream",
     "text": [
      "/Users/rishireddy/opt/anaconda3/lib/python3.7/site-packages/sklearn/neural_network/_multilayer_perceptron.py:571: ConvergenceWarning: Stochastic Optimizer: Maximum iterations (200) reached and the optimization hasn't converged yet.\n",
      "  % self.max_iter, ConvergenceWarning)\n"
     ]
    },
    {
     "data": {
      "text/plain": [
       "MLPRegressor(activation='relu', alpha=0.0001, batch_size='auto', beta_1=0.9,\n",
       "             beta_2=0.999, early_stopping=False, epsilon=1e-08,\n",
       "             hidden_layer_sizes=(100,), learning_rate='constant',\n",
       "             learning_rate_init=0.001, max_fun=15000, max_iter=200,\n",
       "             momentum=0.9, n_iter_no_change=10, nesterovs_momentum=True,\n",
       "             power_t=0.5, random_state=None, shuffle=True, solver='adam',\n",
       "             tol=0.0001, validation_fraction=0.1, verbose=False,\n",
       "             warm_start=False)"
      ]
     },
     "execution_count": 66,
     "metadata": {},
     "output_type": "execute_result"
    }
   ],
   "source": [
    "from sklearn.neural_network import MLPRegressor \n",
    "mlp_reg = MLPRegressor()\n",
    "mlp_reg.fit(train[pred_vars], train['NCENT'])"
   ]
  },
  {
   "cell_type": "code",
   "execution_count": 67,
   "metadata": {},
   "outputs": [
    {
     "data": {
      "text/plain": [
       "KNeighborsRegressor(algorithm='auto', leaf_size=30, metric='minkowski',\n",
       "                    metric_params=None, n_jobs=None, n_neighbors=2, p=2,\n",
       "                    weights='uniform')"
      ]
     },
     "execution_count": 67,
     "metadata": {},
     "output_type": "execute_result"
    }
   ],
   "source": [
    "from sklearn.neighbors import KNeighborsRegressor\n",
    "neigh = KNeighborsRegressor(n_neighbors=2)\n",
    "neigh.fit(train[pred_vars], train['NCENT'])\n",
    "\n",
    "#https://scikit-learn.org/stable/modules/generated/sklearn.neighbors.KNeighborsRegressor.html"
   ]
  },
  {
   "cell_type": "code",
   "execution_count": 68,
   "metadata": {},
   "outputs": [
    {
     "name": "stdout",
     "output_type": "stream",
     "text": [
      "KNeighborsRegressor(algorithm='auto', leaf_size=30, metric='minkowski',\n",
      "                    metric_params=None, n_jobs=None, n_neighbors=2, p=2,\n",
      "                    weights='uniform') RMSE: 23013.37314689834\n",
      "RandomForestRegressor(bootstrap=True, ccp_alpha=0.0, criterion='mse',\n",
      "                      max_depth=None, max_features='auto', max_leaf_nodes=None,\n",
      "                      max_samples=None, min_impurity_decrease=0.0,\n",
      "                      min_impurity_split=None, min_samples_leaf=1,\n",
      "                      min_samples_split=2, min_weight_fraction_leaf=0.0,\n",
      "                      n_estimators=100, n_jobs=None, oob_score=False,\n",
      "                      random_state=None, verbose=0, warm_start=False) RMSE: 20262.061476789142\n",
      "SVR(C=1.0, cache_size=200, coef0=0.0, degree=3, epsilon=0.1, gamma='scale',\n",
      "    kernel='rbf', max_iter=-1, shrinking=True, tol=0.001, verbose=False) RMSE: 60160.14124732338\n",
      "MLPRegressor(activation='relu', alpha=0.0001, batch_size='auto', beta_1=0.9,\n",
      "             beta_2=0.999, early_stopping=False, epsilon=1e-08,\n",
      "             hidden_layer_sizes=(100,), learning_rate='constant',\n",
      "             learning_rate_init=0.001, max_fun=15000, max_iter=200,\n",
      "             momentum=0.9, n_iter_no_change=10, nesterovs_momentum=True,\n",
      "             power_t=0.5, random_state=None, shuffle=True, solver='adam',\n",
      "             tol=0.0001, validation_fraction=0.1, verbose=False,\n",
      "             warm_start=False) RMSE: 305662.13906437904\n"
     ]
    }
   ],
   "source": [
    "models = [neigh, rf_reg, regr, mlp_reg]\n",
    "\n",
    "for reg in models:\n",
    "    \n",
    "    reg_pred = reg.predict(test[pred_vars])\n",
    "\n",
    "    reg_rmse = metrics.mean_squared_error(test['NCENT'], reg_pred, squared=False)\n",
    "    print(reg, \"RMSE:\", reg_rmse)"
   ]
  },
  {
   "cell_type": "code",
   "execution_count": null,
   "metadata": {},
   "outputs": [],
   "source": [
    "#I will work on getting the ARIMA model ready"
   ]
  }
 ],
 "metadata": {
  "kernelspec": {
   "display_name": "Python 3.7.6 ('base')",
   "language": "python",
   "name": "python3"
  },
  "language_info": {
   "codemirror_mode": {
    "name": "ipython",
    "version": 3
   },
   "file_extension": ".py",
   "mimetype": "text/x-python",
   "name": "python",
   "nbconvert_exporter": "python",
   "pygments_lexer": "ipython3",
   "version": "3.7.6"
  },
  "orig_nbformat": 4,
  "vscode": {
   "interpreter": {
    "hash": "8598a1af667b64fa5aa1612f4a24d79553ed5451961126ac48107b3fe05e0806"
   }
  }
 },
 "nbformat": 4,
 "nbformat_minor": 2
}
